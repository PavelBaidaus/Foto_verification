{
 "cells": [
  {
   "cell_type": "code",
   "execution_count": 4,
   "metadata": {},
   "outputs": [],
   "source": [
    "import dlib\n",
    "from skimage import io\n",
    "from scipy.spatial import distance"
   ]
  },
  {
   "cell_type": "code",
   "execution_count": 5,
   "metadata": {},
   "outputs": [],
   "source": [
    "sp = dlib.shape_predictor('shape_predictor_68_face_landmarks.dat')\n",
    "facerec = dlib.face_recognition_model_v1('dlib_face_recognition_resnet_model_v1.dat')\n",
    "detector = dlib.get_frontal_face_detector()"
   ]
  },
  {
   "cell_type": "markdown",
   "metadata": {},
   "source": [
    "Загружаем первое фото"
   ]
  },
  {
   "cell_type": "code",
   "execution_count": 90,
   "metadata": {},
   "outputs": [],
   "source": [
    "img = io.imread('IMG_Eug1.jpg')"
   ]
  },
  {
   "cell_type": "code",
   "execution_count": 91,
   "metadata": {},
   "outputs": [],
   "source": [
    "win1 = dlib.image_window()\n",
    "win1.clear_overlay()\n",
    "win1.set_image(img)"
   ]
  },
  {
   "cell_type": "markdown",
   "metadata": {},
   "source": [
    "Находим лицо на фото"
   ]
  },
  {
   "cell_type": "code",
   "execution_count": 92,
   "metadata": {},
   "outputs": [],
   "source": [
    "dets = detector(img, 1)"
   ]
  },
  {
   "cell_type": "code",
   "execution_count": 93,
   "metadata": {},
   "outputs": [
    {
     "name": "stdout",
     "output_type": "stream",
     "text": [
      "Detection 0: Left: 141 Top: 201 Right: 409 Bottom: 468\n"
     ]
    }
   ],
   "source": [
    "for k, d in enumerate(dets):\n",
    "    print(\"Detection {}: Left: {} Top: {} Right: {} Bottom: {}\".format(k, d.left(), d.top(), d.right(), d.bottom()))\n",
    "    shape = sp(img, d)\n",
    "    win1.clear_overlay()\n",
    "    win1.add_overlay(d)\n",
    "    win1.add_overlay(shape)"
   ]
  },
  {
   "cell_type": "markdown",
   "metadata": {},
   "source": [
    "Извлекаем описание лица"
   ]
  },
  {
   "cell_type": "code",
   "execution_count": 94,
   "metadata": {},
   "outputs": [],
   "source": [
    "face_descriptor1 = facerec.compute_face_descriptor(img, shape)"
   ]
  },
  {
   "cell_type": "code",
   "execution_count": 95,
   "metadata": {},
   "outputs": [
    {
     "name": "stdout",
     "output_type": "stream",
     "text": [
      "-0.109228\n",
      "0.129212\n",
      "-0.0126003\n",
      "-0.121644\n",
      "-0.0880853\n",
      "-0.0361427\n",
      "-0.0780652\n",
      "-0.0516873\n",
      "0.172893\n",
      "-0.0718002\n",
      "0.256903\n",
      "-0.106351\n",
      "-0.256023\n",
      "-0.0284218\n",
      "-0.1049\n",
      "0.107221\n",
      "-0.224899\n",
      "-0.0734587\n",
      "-0.0337192\n",
      "-0.142643\n",
      "0.0590642\n",
      "0.0736414\n",
      "-0.0850391\n",
      "0.0662268\n",
      "-0.144249\n",
      "-0.275242\n",
      "-0.0900972\n",
      "-0.0522653\n",
      "0.0333895\n",
      "-0.149391\n",
      "0.0238729\n",
      "0.087544\n",
      "-0.168941\n",
      "-0.0775631\n",
      "0.0271949\n",
      "0.101851\n",
      "-0.0676201\n",
      "-0.0758788\n",
      "0.119644\n",
      "0.031851\n",
      "-0.0752471\n",
      "0.0235996\n",
      "0.0569284\n",
      "0.350335\n",
      "0.150809\n",
      "0.0504239\n",
      "-0.0824865\n",
      "-0.0555456\n",
      "0.122304\n",
      "-0.238459\n",
      "0.0142276\n",
      "0.221621\n",
      "0.100551\n",
      "0.0846354\n",
      "0.0451684\n",
      "-0.115549\n",
      "0.0138916\n",
      "0.21605\n",
      "-0.22848\n",
      "0.0677671\n",
      "0.04855\n",
      "-0.114814\n",
      "-0.0170215\n",
      "-0.106612\n",
      "0.128297\n",
      "0.117972\n",
      "-0.106984\n",
      "-0.102944\n",
      "0.149222\n",
      "-0.140983\n",
      "-0.0827329\n",
      "0.0161737\n",
      "-0.0635006\n",
      "-0.235756\n",
      "-0.219247\n",
      "0.0743509\n",
      "0.282147\n",
      "0.194983\n",
      "-0.125563\n",
      "0.0615749\n",
      "0.0044761\n",
      "-0.0393979\n",
      "0.0795616\n",
      "-0.000387728\n",
      "-0.116395\n",
      "-0.0444032\n",
      "-0.0787184\n",
      "0.0470961\n",
      "0.181072\n",
      "0.00191523\n",
      "-0.0166478\n",
      "0.242153\n",
      "-0.0471855\n",
      "-0.00498037\n",
      "0.0609026\n",
      "0.00120635\n",
      "-0.133511\n",
      "0.0133535\n",
      "-0.128455\n",
      "-0.00635021\n",
      "0.0716563\n",
      "-0.184549\n",
      "-0.0325117\n",
      "0.0625774\n",
      "-0.16015\n",
      "0.145059\n",
      "0.0503628\n",
      "-0.0203048\n",
      "-0.0388457\n",
      "-0.0218797\n",
      "-0.115374\n",
      "0.015458\n",
      "0.226509\n",
      "-0.257473\n",
      "0.254857\n",
      "0.170304\n",
      "0.0818629\n",
      "0.212383\n",
      "0.130605\n",
      "0.0240204\n",
      "0.00853767\n",
      "-0.110116\n",
      "-0.103099\n",
      "-0.124806\n",
      "0.0569969\n",
      "-0.0100767\n",
      "0.0657736\n",
      "-0.0042477\n"
     ]
    }
   ],
   "source": [
    "print(face_descriptor1)"
   ]
  },
  {
   "cell_type": "markdown",
   "metadata": {},
   "source": [
    "Загрузим вторую фото"
   ]
  },
  {
   "cell_type": "code",
   "execution_count": 86,
   "metadata": {},
   "outputs": [
    {
     "name": "stdout",
     "output_type": "stream",
     "text": [
      "Detection 0: Left: 141 Top: 290 Right: 409 Bottom: 558\n"
     ]
    }
   ],
   "source": [
    "img = io.imread('IMG_Eug3.jpg')\n",
    "win2 = dlib.image_window()\n",
    "win2.clear_overlay()\n",
    "win2.set_image(img)\n",
    "dets_modern = detector(img, 1)\n",
    "for k, d in enumerate(dets_modern):\n",
    "    print(\"Detection {}: Left: {} Top: {} Right: {} Bottom: {}\".format(k, d.left(), d.top(), d.right(), d.bottom()))\n",
    "    shape = sp(img, d)\n",
    "    win2.clear_overlay()\n",
    "    win2.add_overlay(d)\n",
    "    win2.add_overlay(shape)"
   ]
  },
  {
   "cell_type": "code",
   "execution_count": 87,
   "metadata": {},
   "outputs": [],
   "source": [
    "face_descriptor2 = facerec.compute_face_descriptor(img, shape)"
   ]
  },
  {
   "cell_type": "code",
   "execution_count": 88,
   "metadata": {},
   "outputs": [
    {
     "name": "stdout",
     "output_type": "stream",
     "text": [
      "-0.148329\n",
      "0.0273813\n",
      "0.0517735\n",
      "-0.102568\n",
      "-0.116814\n",
      "0.00467364\n",
      "-0.0130023\n",
      "-0.0548139\n",
      "0.126604\n",
      "-0.100115\n",
      "0.196635\n",
      "-0.103023\n",
      "-0.22908\n",
      "-0.015875\n",
      "-0.0721052\n",
      "0.168216\n",
      "-0.185554\n",
      "-0.116405\n",
      "-0.0318323\n",
      "0.0463428\n",
      "0.0300845\n",
      "0.104209\n",
      "-0.0693462\n",
      "0.0677813\n",
      "-0.120268\n",
      "-0.363791\n",
      "-0.0156265\n",
      "-0.0660698\n",
      "-0.0250781\n",
      "-0.0492495\n",
      "-0.0378162\n",
      "0.171819\n",
      "-0.187484\n",
      "-0.0348632\n",
      "0.00701886\n",
      "0.152728\n",
      "-0.0869292\n",
      "-0.0994779\n",
      "0.170816\n",
      "0.0551994\n",
      "-0.224901\n",
      "-0.00845997\n",
      "0.0403509\n",
      "0.299\n",
      "0.119155\n",
      "-0.0766291\n",
      "-0.0185682\n",
      "0.0537563\n",
      "0.0818434\n",
      "-0.330597\n",
      "-0.0998183\n",
      "0.154138\n",
      "0.0883839\n",
      "0.0651426\n",
      "0.0311163\n",
      "-0.0872369\n",
      "0.109409\n",
      "0.140852\n",
      "-0.264764\n",
      "0.0455145\n",
      "0.0223884\n",
      "-0.157889\n",
      "0.0694222\n",
      "-0.0134215\n",
      "0.167746\n",
      "0.0418482\n",
      "-0.0526674\n",
      "-0.110955\n",
      "0.135705\n",
      "-0.136483\n",
      "-0.071372\n",
      "0.0615215\n",
      "-0.109374\n",
      "-0.235195\n",
      "-0.291267\n",
      "0.0325379\n",
      "0.276885\n",
      "0.173609\n",
      "-0.109599\n",
      "0.101512\n",
      "0.00435545\n",
      "-0.0551137\n",
      "0.0806135\n",
      "0.0440271\n",
      "-0.00348143\n",
      "0.00821925\n",
      "-0.112168\n",
      "0.0222851\n",
      "0.235756\n",
      "0.00815937\n",
      "-0.00632439\n",
      "0.24741\n",
      "0.0181582\n",
      "-0.0617692\n",
      "0.0617649\n",
      "-0.00172994\n",
      "-0.015664\n",
      "-0.0180897\n",
      "-0.110538\n",
      "0.0567591\n",
      "0.0357525\n",
      "-0.151899\n",
      "-0.018647\n",
      "0.140946\n",
      "-0.221611\n",
      "0.117121\n",
      "-0.0468544\n",
      "-0.0475467\n",
      "-0.0097075\n",
      "-0.0344564\n",
      "-0.107848\n",
      "0.00142077\n",
      "0.145519\n",
      "-0.241466\n",
      "0.16272\n",
      "0.207528\n",
      "0.0621272\n",
      "0.126516\n",
      "0.0520484\n",
      "-0.0708421\n",
      "-0.0271744\n",
      "-0.0270841\n",
      "-0.164243\n",
      "-0.142699\n",
      "0.11558\n",
      "-0.0279213\n",
      "0.0295282\n",
      "0.0298043\n"
     ]
    }
   ],
   "source": [
    "print(face_descriptor2)"
   ]
  },
  {
   "cell_type": "markdown",
   "metadata": {},
   "source": [
    "Сравниваем две фото путем расчета евклидового расстояния между 2 дескрипторами лиц, граничное расстояние 0,6. Если меньше 0,6 то фото принадлежат одному человеку идентификация пройдена."
   ]
  },
  {
   "cell_type": "code",
   "execution_count": 96,
   "metadata": {},
   "outputs": [
    {
     "name": "stdout",
     "output_type": "stream",
     "text": [
      "0.6360373751840642\n"
     ]
    }
   ],
   "source": [
    "a = distance.euclidean(face_descriptor1, face_descriptor2)\n",
    "print(a)"
   ]
  },
  {
   "cell_type": "code",
   "execution_count": null,
   "metadata": {},
   "outputs": [],
   "source": []
  }
 ],
 "metadata": {
  "kernelspec": {
   "display_name": "Python 3",
   "language": "python",
   "name": "python3"
  },
  "language_info": {
   "codemirror_mode": {
    "name": "ipython",
    "version": 3
   },
   "file_extension": ".py",
   "mimetype": "text/x-python",
   "name": "python",
   "nbconvert_exporter": "python",
   "pygments_lexer": "ipython3",
   "version": "3.6.5"
  }
 },
 "nbformat": 4,
 "nbformat_minor": 2
}
